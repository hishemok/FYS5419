{
 "cells": [
  {
   "cell_type": "markdown",
   "metadata": {},
   "source": [
    "## Quantum Computing and Quantum Machine Learning, Project 1"
   ]
  },
  {
   "cell_type": "markdown",
   "metadata": {},
   "source": [
    "### Part a)"
   ]
  },
  {
   "cell_type": "code",
   "execution_count": 89,
   "metadata": {},
   "outputs": [
    {
     "name": "stdout",
     "output_type": "stream",
     "text": [
      "|0⟩: [1 0]\n",
      "|1⟩: [0 1]\n",
      "\n",
      "σ_x|0⟩: [0 1]\n",
      "σ_x|1⟩: [1 0]\n",
      "σ_y|0⟩: [0.+0.j 0.+1.j]\n",
      "σ_y|1⟩: [0.-1.j 0.+0.j]\n",
      "σ_z|0⟩: [1 0]\n",
      "σ_z|1⟩: [ 0 -1]\n",
      "\n",
      "H|0⟩: [0.70710678 0.70710678]\n",
      "H|1⟩: [ 0.70710678 -0.70710678]\n",
      "\n",
      "P|0⟩: [1.+0.j 0.+0.j]\n",
      "P|1⟩: [0.+0.j 0.+1.j]\n",
      "\n",
      "Bell states:\n",
      "Bell state |00⟩: [0.70710678 0.         0.         0.70710678]\n",
      "Bell state |01⟩: [0.         0.70710678 0.70710678 0.        ]\n",
      "Bell state |10⟩: [ 0.70710678  0.          0.         -0.70710678]\n",
      "Bell state |11⟩: [ 0.          0.70710678 -0.70710678  0.        ]\n",
      "\n",
      "Double check Bell states:\n",
      "Bell state |00⟩: [0.70710678 0.         0.         0.70710678]\n",
      "Bell state |01⟩: [0.         0.70710678 0.70710678 0.        ]\n",
      "Bell state |10⟩: [ 0.70710678  0.          0.         -0.70710678]\n",
      "Bell state |11⟩: [ 0.          0.70710678 -0.70710678  0.        ]\n"
     ]
    }
   ],
   "source": [
    "import numpy as np\n",
    "import matplotlib.pyplot as plt\n",
    "\n",
    "#Write a function which sets up a one-qubit basis\n",
    "def one_qubit_basis():\n",
    "    ket0 = np.array([1,0])\n",
    "    ket1 = np.array([0,1])\n",
    "    return ket0, ket1\n",
    "#defining a function that returns the Bell states\n",
    "def bell_state():\n",
    "    ket0, ket1 = one_qubit_basis()\n",
    "    s00 = np.kron(ket0,ket0)\n",
    "    s01 = np.kron(ket0,ket1)\n",
    "    s10 = np.kron(ket1,ket0)\n",
    "    s11 = np.kron(ket1,ket1)\n",
    "\n",
    "    ket00 = (s00 + s11)/np.sqrt(2)\n",
    "    ket01 = (s01 + s10)/np.sqrt(2)\n",
    "    ket10 = (s00 - s11)/np.sqrt(2)\n",
    "    ket11 = (s01 - s10)/np.sqrt(2)\n",
    "\n",
    "    return ket00, ket01, ket10, ket11\n",
    "\n",
    "\n",
    "\n",
    "ket0, ket1 = one_qubit_basis()\n",
    "print(\"|0⟩:\",ket0)\n",
    "print(\"|1⟩:\",ket1)\n",
    "\n",
    "#Pauli matrices\n",
    "sigma_x = np.array([[0,1],[1,0]])\n",
    "sigma_y = np.array([[0,-1j],[1j,0]])\n",
    "sigma_z = np.array([[1,0],[0,-1]])\n",
    "\n",
    "# Applying Pauli matrices to the basis\n",
    "ket0_sigma_x = sigma_x@ket0\n",
    "ket1_sigma_x = sigma_x@ket1\n",
    "print(\"\\nσ_x|0⟩:\",ket0_sigma_x)\n",
    "print(\"σ_x|1⟩:\",ket1_sigma_x)\n",
    "\n",
    "ket0_sigma_y = sigma_y@ket0\n",
    "ket1_sigma_y = sigma_y@ket1\n",
    "print(\"σ_y|0⟩:\",ket0_sigma_y)\n",
    "print(\"σ_y|1⟩:\",ket1_sigma_y)\n",
    "\n",
    "ket0_sigma_z = sigma_z@ket0\n",
    "ket1_sigma_z = sigma_z@ket1\n",
    "print(\"σ_z|0⟩:\",ket0_sigma_z)\n",
    "print(\"σ_z|1⟩:\",ket1_sigma_z)\n",
    "\n",
    "# Create Hadamar and Phase gates\n",
    "Hadamard = 1/np.sqrt(2)*np.array([[1,1],[1,-1]])\n",
    "Phase = np.array([[1,0],[0,1j]])   \n",
    "\n",
    "#Apply Hadamard and Phase gates to the basis\n",
    "ket0_Hadamard = Hadamard@ket0\n",
    "ket1_Hadamard = Hadamard@ket1\n",
    "print(\"\\nH|0⟩:\",ket0_Hadamard)\n",
    "print(\"H|1⟩:\",ket1_Hadamard)\n",
    "\n",
    "ket0_Phase = Phase@ket0\n",
    "ket1_Phase = Phase@ket1\n",
    "print(\"\\nP|0⟩:\",ket0_Phase)\n",
    "print(\"P|1⟩:\",ket1_Phase)\n",
    "\n",
    "\n",
    "#Define CNOT gate\n",
    "CNOT = np.array([[1,0,0,0],[0,1,0,0],[0,0,0,1],[0,0,1,0]])\n",
    "\n",
    "\n",
    "#Create Bell state out of ket0 with Hadamard and CNOT\n",
    "ket0_Hadamard = Hadamard@ket0\n",
    "ket1_Hadamard = Hadamard@ket1\n",
    "bell00 = CNOT@np.kron(ket0_Hadamard,ket0)\n",
    "bell10 = CNOT@np.kron(ket1_Hadamard,ket0) \n",
    "bell01 = CNOT@np.kron(ket0_Hadamard,ket1)\n",
    "bell11 = CNOT@np.kron(ket1_Hadamard,ket1)\n",
    "\n",
    "bs00,bs01,bs10,bs11 = bell_state()  \n",
    "\n",
    "print(\"\\nBell states:\") \n",
    "print(\"Bell state |00⟩:\",bell00)\n",
    "print(\"Bell state |01⟩:\",bell01)\n",
    "print(\"Bell state |10⟩:\",bell10)\n",
    "print(\"Bell state |11⟩:\",bell11)\n",
    "print(\"\\nDouble check Bell states:\")\n",
    "print(\"Bell state |00⟩:\",bs00)\n",
    "print(\"Bell state |01⟩:\",bs01)\n",
    "print(\"Bell state |10⟩:\",bs10)\n",
    "print(\"Bell state |11⟩:\",bs11)\n"
   ]
  },
  {
   "cell_type": "code",
   "execution_count": 90,
   "metadata": {},
   "outputs": [
    {
     "name": "stdout",
     "output_type": "stream",
     "text": [
      "\n",
      "Bell states after Hadamard gate:\n",
      "Bell state |00⟩: [ 0.5  0.5  0.5 -0.5]\n",
      "Bell state |01⟩: [ 0.5  0.5 -0.5  0.5]\n",
      "Bell state |10⟩: [ 0.5 -0.5  0.5  0.5]\n",
      "Bell state |11⟩: [-0.5  0.5  0.5  0.5]\n",
      "\n",
      "Bell states after Hadamard and CNOT gates:\n",
      "Bell state |00⟩: [ 0.5  0.5 -0.5  0.5]\n",
      "Bell state |01⟩: [ 0.5  0.5  0.5 -0.5]\n",
      "Bell state |10⟩: [ 0.5 -0.5  0.5  0.5]\n",
      "Bell state |11⟩: [-0.5  0.5  0.5  0.5]\n"
     ]
    }
   ],
   "source": [
    "#Apply Hadamard, then CNOT to the Bell states\n",
    "bell00_H = np.kron(Hadamard,np.eye(2))@bell00\n",
    "bell01_H = np.kron(Hadamard,np.eye(2))@bell01\n",
    "bell10_H = np.kron(Hadamard,np.eye(2))@bell10\n",
    "bell11_H = np.kron(Hadamard,np.eye(2))@bell11\n",
    "\n",
    "print(\"\\nBell states after Hadamard gate:\")\n",
    "print(\"Bell state |00⟩:\",bell00_H)\n",
    "print(\"Bell state |01⟩:\",bell01_H)\n",
    "print(\"Bell state |10⟩:\",bell10_H)\n",
    "print(\"Bell state |11⟩:\",bell11_H)\n",
    "\n",
    "bell00_HCNOT = CNOT@bell00_H\n",
    "bell01_HCNOT = CNOT@bell01_H\n",
    "bell10_HCNOT = CNOT@bell10_H\n",
    "bell11_HCNOT = CNOT@bell11_H\n",
    "\n",
    "print(\"\\nBell states after Hadamard and CNOT gates:\")\n",
    "print(\"Bell state |00⟩:\",bell00_HCNOT)\n",
    "print(\"Bell state |01⟩:\",bell01_HCNOT)\n",
    "print(\"Bell state |10⟩:\",bell10_HCNOT)\n",
    "print(\"Bell state |11⟩:\",bell11_HCNOT)\n"
   ]
  },
  {
   "cell_type": "code",
   "execution_count": 154,
   "metadata": {},
   "outputs": [
    {
     "data": {
      "image/png": "[encoded data removed]",
      "text/plain": [
       "<Figure size 640x480 with 1 Axes>"
      ]
     },
     "metadata": {},
     "output_type": "display_data"
    }
   ],
   "source": [
    "import random\n",
    "#Make repeated measurements on the first qubit, then the second qubit\n",
    "\n",
    "def bell_measurements(n, bell_state):\n",
    "    \"\"\"\n",
    "    Measurements on Bell state \" |00⟩:\"\n",
    "    |00⟩: idx0\n",
    "    |01⟩: idx1\n",
    "    |10⟩: idx2\n",
    "    |11⟩: idx3\n",
    "    \"\"\"\n",
    "    results = []\n",
    "    prob = np.abs(bell_state)/np.sum(np.abs(bell_state))\n",
    "\n",
    "    for i in range(n):\n",
    "        idx = random.choices(range(len(bell_state)), weights=prob)\n",
    "        results.append(idx[0])\n",
    "    return results \n",
    "\n",
    "\n",
    "n = 1000\n",
    "results = bell_measurements(n, bell00_HCNOT)\n",
    "\n",
    "plt.hist(results,bins = np.arange(5)-0.5,rwidth=0.5)\n",
    "plt.xticks(range(4), [\"|00⟩\", \"|01⟩\", \"|10⟩\", \"|11⟩\"])\n",
    "plt.title(f\"n: {n} probability measurements\")\n",
    "plt.ylabel(\"Frequency\")\n",
    "plt.xlabel(\"Bell states\")\n",
    "plt.show()\n"
   ]
  }
 ],
 "metadata": {
  "kernelspec": {
   "display_name": "myenv",
   "language": "python",
   "name": "python3"
  },
  "language_info": {
   "codemirror_mode": {
    "name": "ipython",
    "version": 3
   },
   "file_extension": ".py",
   "mimetype": "text/x-python",
   "name": "python",
   "nbconvert_exporter": "python",
   "pygments_lexer": "ipython3",
   "version": "3.12.7"
  }
 },
 "nbformat": 4,
 "nbformat_minor": 2
}
