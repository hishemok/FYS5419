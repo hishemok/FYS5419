{
 "cells": [
  {
   "cell_type": "code",
   "execution_count": 10,
   "metadata": {},
   "outputs": [
    {
     "name": "stdout",
     "output_type": "stream",
     "text": [
      "State: |0⟩, Gate: X, Resulting State: Statevector([0.+0.j, 1.+0.j],\n",
      "            dims=(2,))\n",
      "State: |0⟩, Gate: Y, Resulting State: Statevector([0.-0.j, 0.+1.j],\n",
      "            dims=(2,))\n",
      "State: |0⟩, Gate: Z, Resulting State: Statevector([ 1.+0.j, -0.+0.j],\n",
      "            dims=(2,))\n",
      "State: |0⟩, Gate: H, Resulting State: Statevector([0.70710678+0.j, 0.70710678+0.j],\n",
      "            dims=(2,))\n",
      "State: |0⟩, Gate: S, Resulting State: Statevector([ 1.+0.j, -0.+0.j],\n",
      "            dims=(2,))\n",
      "State: |1⟩, Gate: X, Resulting State: Statevector([1.+0.j, 0.+0.j],\n",
      "            dims=(2,))\n",
      "State: |1⟩, Gate: Y, Resulting State: Statevector([-1.8369702e-16-1.j, -0.0000000e+00+0.j],\n",
      "            dims=(2,))\n",
      "State: |1⟩, Gate: Z, Resulting State: Statevector([ 6.123234e-17+0.0000000e+00j, -1.000000e+00-1.2246468e-16j],\n",
      "            dims=(2,))\n",
      "State: |1⟩, Gate: H, Resulting State: Statevector([ 0.70710678+0.00000000e+00j, -0.70710678-8.65956056e-17j],\n",
      "            dims=(2,))\n",
      "State: |1⟩, Gate: S, Resulting State: Statevector([-1.12481984e-32-6.123234e-17j,  6.12323400e-17+1.000000e+00j],\n",
      "            dims=(2,))\n"
     ]
    }
   ],
   "source": [
    "from qiskit import QuantumCircuit,transpile\n",
    "from qiskit_aer import Aer\n",
    "\n",
    "from qiskit.visualization import plot_histogram\n",
    "import matplotlib.pyplot as plt\n",
    "\n",
    "# Function to apply gates to one-qubit basis states\n",
    "def apply_gates_to_one_qubit():\n",
    "    # Define the basis states |0⟩ and |1⟩\n",
    "    basis_states = ['|0⟩', '|1⟩']\n",
    "    \n",
    "    # Define the gates to be applied\n",
    "    gates = ['X', 'Y', 'Z', 'H', 'S']\n",
    "    \n",
    "    # Initialize the simulator\n",
    "    simulator = Aer.get_backend('statevector_simulator')\n",
    "    \n",
    "    for state in basis_states:\n",
    "        for gate in gates:\n",
    "            qc = QuantumCircuit(1)  # Create a quantum circuit with 1 qubit\n",
    "            if state == '|1⟩':\n",
    "                qc.x(0)  # Apply X gate to initialize |1⟩\n",
    "            \n",
    "            if gate == 'X':\n",
    "                qc.x(0)\n",
    "            elif gate == 'Y':\n",
    "                qc.y(0)\n",
    "            elif gate == 'Z':\n",
    "                qc.z(0)\n",
    "            elif gate == 'H':\n",
    "                qc.h(0)\n",
    "            elif gate == 'S':\n",
    "                qc.s(0)\n",
    "            \n",
    "            # # Execute the circuit\n",
    "            # backend = Aer.get_backend('qasm_simulator')\n",
    "\n",
    "            # simulator = Aer.get_backend(\"qasm_simulator\")\n",
    "            result = transpile(qc, simulator)\n",
    "            result = simulator.run(result).result()\n",
    "            statevector = result.get_statevector()\n",
    "            \n",
    "            print(f\"State: {state}, Gate: {gate}, Resulting State: {statevector}\")\n",
    "\n",
    "# Run the function\n",
    "apply_gates_to_one_qubit()"
   ]
  },
  {
   "cell_type": "code",
   "execution_count": 13,
   "metadata": {},
   "outputs": [
    {
     "data": {
      "image/png": "[encoded data removed]",
      "text/plain": [
       "<Figure size 640x480 with 1 Axes>"
      ]
     },
     "metadata": {},
     "output_type": "display_data"
    }
   ],
   "source": [
    "# Function to create Bell states and apply Hadamard and CNOT gates\n",
    "def bell_state_operations():\n",
    "    # Initialize the quantum circuit with 2 qubits\n",
    "    qc = QuantumCircuit(2, 2)\n",
    "    \n",
    "    # Create a Bell state (|00⟩ + |11⟩)/sqrt(2)\n",
    "    qc.h(0)  # Apply Hadamard gate to the first qubit\n",
    "    qc.cx(0, 1)  # Apply CNOT gate with control qubit 0 and target qubit 1\n",
    "    \n",
    "    # Measure the first qubit\n",
    "    qc.measure(0, 0)\n",
    "    \n",
    "    # Measure the second qubit\n",
    "    qc.measure(1, 1)\n",
    "    \n",
    "    # Execute the circuit on the simulator\n",
    "    simulator = Aer.get_backend('qasm_simulator')\n",
    "    # result = execute(qc, simulator, shots=1024).result()\n",
    "    result = transpile(qc, simulator)\n",
    "    result = simulator.run(result,shots = 1024).result()\n",
    "    \n",
    "    counts = result.get_counts(qc)\n",
    "    # Plot the results\n",
    "    plt.hist(counts)\n",
    "    plt.show()\n",
    "\n",
    "# Run the function\n",
    "bell_state_operations()"
   ]
  }
 ],
 "metadata": {
  "kernelspec": {
   "display_name": "myenv",
   "language": "python",
   "name": "python3"
  },
  "language_info": {
   "codemirror_mode": {
    "name": "ipython",
    "version": 3
   },
   "file_extension": ".py",
   "mimetype": "text/x-python",
   "name": "python",
   "nbconvert_exporter": "python",
   "pygments_lexer": "ipython3",
   "version": "3.12.7"
  }
 },
 "nbformat": 4,
 "nbformat_minor": 2
}
